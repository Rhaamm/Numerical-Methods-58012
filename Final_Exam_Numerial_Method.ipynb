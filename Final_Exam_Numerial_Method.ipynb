{
  "nbformat": 4,
  "nbformat_minor": 0,
  "metadata": {
    "colab": {
      "name": "Final Exam Numerial Method.ipynb",
      "provenance": [],
      "authorship_tag": "ABX9TyN2IUVEP3JW7tR3/TRKJylX",
      "include_colab_link": true
    },
    "kernelspec": {
      "name": "python3",
      "display_name": "Python 3"
    },
    "language_info": {
      "name": "python"
    }
  },
  "cells": [
    {
      "cell_type": "markdown",
      "metadata": {
        "id": "view-in-github",
        "colab_type": "text"
      },
      "source": [
        "<a href=\"https://colab.research.google.com/github/Rhaamm/Numerical-Methods-58012/blob/main/Final_Exam_Numerial_Method.ipynb\" target=\"_parent\"><img src=\"https://colab.research.google.com/assets/colab-badge.svg\" alt=\"Open In Colab\"/></a>"
      ]
    },
    {
      "cell_type": "code",
      "execution_count": 2,
      "metadata": {
        "colab": {
          "base_uri": "https://localhost:8080/"
        },
        "id": "IbgFJhAS27lg",
        "outputId": "af691ea8-9850-441d-8482-20372de4bb67"
      },
      "outputs": [
        {
          "output_type": "stream",
          "name": "stdout",
          "text": [
            "Integral = 2.1731\n"
          ]
        }
      ],
      "source": [
        "import math\n",
        "def f(x):\n",
        "  return(math.exp(x)) # define the trigo function\n",
        "a = -1\n",
        "b = 1\n",
        "n = 10\n",
        "h = (b-a)/n   # Width of the trapezoid\n",
        "S = h * (f(a)+f(b))    # Beginning value of summation\n",
        "for i in range(1,n):\n",
        "    S += f(a+i*h)\n",
        "Integral = S*h\n",
        "print('Integral = %0.4f' %Integral)"
      ]
    }
  ]
}